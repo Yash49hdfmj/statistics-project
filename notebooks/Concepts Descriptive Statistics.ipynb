{
 "cells": [
  {
   "cell_type": "code",
   "execution_count": null,
   "id": "96cc5dd3",
   "metadata": {},
   "outputs": [],
   "source": [
    "# CORRELATION"
   ]
  },
  {
   "cell_type": "markdown",
   "id": "74415c2a",
   "metadata": {},
   "source": [
    " ## What Is a Z-Score?\n",
    "   A z-score (or standard score) tells you how many standard deviations a data point is from the mean.\n",
    "\n",
    "   Formula:\n",
    "\n",
    "![Z-Score Formula](https://github.com/Yash49hdfmj/statistics-project/blob/master/FORMULAS/z-score.png?raw=true)\n",
    "\n",
    "\n",
    "   𝜇 : the mean of the dataset\n",
    "\n",
    "   𝜎 : the standard deviation\n",
    "\n",
    "   So, a z-score of +2 means the value is 2 standard deviations above the mean, and -1 means it's 1 below.\n",
    "  \n",
    " ## How Z-Scores Relate to Correlation\n",
    "\n",
    "   The Pearson correlation coefficient is essentially the average product of z-scores of two variables:\n",
    "\n",
    "   FORMULA : \n",
    "\n",
    "   ![Pearson-Z-Score Formula](https://github.com/Yash49hdfmj/statistics-project/blob/master/FORMULAS/pearson-z-score-relation.png?raw=true)\n",
    "\n"
   ]
  },
  {
   "cell_type": "markdown",
   "id": "761dfd5d",
   "metadata": {},
   "source": []
  }
 ],
 "metadata": {
  "kernelspec": {
   "display_name": "base",
   "language": "python",
   "name": "python3"
  },
  "language_info": {
   "name": "python",
   "version": "3.11.5"
  }
 },
 "nbformat": 4,
 "nbformat_minor": 5
}
