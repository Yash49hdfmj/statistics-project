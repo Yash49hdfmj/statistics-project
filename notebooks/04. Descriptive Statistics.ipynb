{
  "cells": [
    {
      "cell_type": "code",
      "execution_count": null,
      "id": "eccfe7a8",
      "metadata": {},
      "outputs": [],
      "source": [
        "import numpy as np \n",
        "import pandas as pd \n",
        "import matplotlib.pyplot as plt \n",
        "import seaborn as sns "
      ]
    },
    {
      "cell_type": "code",
      "execution_count": null,
      "id": "078a7514",
      "metadata": {},
      "outputs": [],
      "source": [
        "import ipywidgets as widgets\n",
        "from ipywidgets import interact\n",
        "from ipywidgets import interact_manual"
      ]
    },
    {
      "cell_type": "code",
      "execution_count": null,
      "id": "26fa62d1",
      "metadata": {},
      "outputs": [],
      "source": [
        "data = pd.read_csv(\"C://Users//91810//Desktop//statistics-project//data//train.csv\")"
      ]
    },
    {
      "cell_type": "code",
      "execution_count": null,
      "id": "e850ee02",
      "metadata": {},
      "outputs": [],
      "source": [
        "data.info()"
      ]
    },
    {
      "cell_type": "code",
      "execution_count": null,
      "id": "8e3a4e29",
      "metadata": {},
      "outputs": [],
      "source": [
        "data.shape"
      ]
    },
    {
      "cell_type": "code",
      "execution_count": null,
      "id": "2003b2d5",
      "metadata": {},
      "outputs": [],
      "source": [
        "pd.set_option('display.max_columns', 81)\n",
        "data.head()"
      ]
    },
    {
      "cell_type": "markdown",
      "id": "73d563a2",
      "metadata": {},
      "source": [
        "##  PEARSON CORRELATION "
      ]
    },
    {
      "cell_type": "code",
      "execution_count": null,
      "id": "5446edd5",
      "metadata": {},
      "outputs": [],
      "source": [
        "# interactive checker\n",
        "@interact   # decorator \n",
        "            # automatically creates UI widget for function parameters\n",
        "def check (column = list(data.select_dtypes('number').columns),\n",
        "           column2 = list(data.select_dtypes('number').columns)[1:]):\n",
        "    print(\"Correlation:\", data[column].corr(data[column2]))"
      ]
    },
    {
      "cell_type": "markdown",
      "id": "3e32bc76",
      "metadata": {},
      "source": [
        "## distribution of a numeric column across categories"
      ]
    },
    {
      "cell_type": "code",
      "execution_count": null,
      "id": "99b30c05",
      "metadata": {},
      "outputs": [],
      "source": [
        "plt.rcParams['figure.figsize']=(15,5) # select default plot size\n",
        "plt.style.use('fivethirtyeight')\n",
        "@interact_manual\n",
        "def check(column1=list(data.select_dtypes('object').columns),\n",
        "          column2=list(data.select_dtypes('number').columns)):\n",
        "    sns.boxplot(x=data[column1],y=data[column2])\n",
        "    plt.xlabel(column1)\n",
        "    plt.ylabel(column2)\n",
        "    plt.title(f\"{column2} by {column1}\")\n",
        "    plt.show()"
      ]
    },
    {
      "cell_type": "code",
      "execution_count": null,
      "id": "5901b4cf",
      "metadata": {},
      "outputs": [],
      "source": [
        "plt.rcParams['figure.figsize']=(15,5) # select default plot size\n",
        "plt.style.use('fivethirtyeight')\n",
        "@interact_manual\n",
        "def check(column1=list(data.select_dtypes('object').columns)[1:],\n",
        "          column2=list(data.select_dtypes('number').columns)[2:]):\n",
        "    sns.boxplot(x=data[column1],y=data[column2])\n",
        "    plt.xlabel(column1)\n",
        "    plt.ylabel(column2)\n",
        "    plt.title(f\"{column2} by {column1}\")\n",
        "    plt.show()"
      ]
    },
    {
      "cell_type": "code",
      "execution_count": 22,
      "id": "58700cc9",
      "metadata": {},
      "outputs": [
        {
          "data": {
            "text/plain": [
              "Index(['Id', 'MSSubClass', 'MSZoning', 'LotFrontage', 'LotArea', 'Street',\n",
              "       'Alley', 'LotShape', 'LandContour', 'Utilities', 'LotConfig',\n",
              "       'LandSlope', 'Neighborhood', 'Condition1', 'Condition2', 'BldgType',\n",
              "       'HouseStyle', 'OverallQual', 'OverallCond', 'YearBuilt', 'YearRemodAdd',\n",
              "       'RoofStyle', 'RoofMatl', 'Exterior1st', 'Exterior2nd', 'MasVnrType',\n",
              "       'MasVnrArea', 'ExterQual', 'ExterCond', 'Foundation', 'BsmtQual',\n",
              "       'BsmtCond', 'BsmtExposure', 'BsmtFinType1', 'BsmtFinSF1',\n",
              "       'BsmtFinType2', 'BsmtFinSF2', 'BsmtUnfSF', 'TotalBsmtSF', 'Heating',\n",
              "       'HeatingQC', 'CentralAir', 'Electrical', '1stFlrSF', '2ndFlrSF',\n",
              "       'LowQualFinSF', 'GrLivArea', 'BsmtFullBath', 'BsmtHalfBath', 'FullBath',\n",
              "       'HalfBath', 'BedroomAbvGr', 'KitchenAbvGr', 'KitchenQual',\n",
              "       'TotRmsAbvGrd', 'Functional', 'Fireplaces', 'FireplaceQu', 'GarageType',\n",
              "       'GarageYrBlt', 'GarageFinish', 'GarageCars', 'GarageArea', 'GarageQual',\n",
              "       'GarageCond', 'PavedDrive', 'WoodDeckSF', 'OpenPorchSF',\n",
              "       'EnclosedPorch', '3SsnPorch', 'ScreenPorch', 'PoolArea', 'PoolQC',\n",
              "       'Fence', 'MiscFeature', 'MiscVal', 'MoSold', 'YrSold', 'SaleType',\n",
              "       'SaleCondition', 'SalePrice'],\n",
              "      dtype='object')"
            ]
          },
          "execution_count": 22,
          "metadata": {},
          "output_type": "execute_result"
        }
      ],
      "source": [
        "# check columns names\n",
        "data.columns"
      ]
    },
    {
      "cell_type": "code",
      "execution_count": 27,
      "id": "3dcc6815",
      "metadata": {},
      "outputs": [
        {
          "data": {
            "text/html": [
              "<div>\n",
              "<style scoped>\n",
              "    .dataframe tbody tr th:only-of-type {\n",
              "        vertical-align: middle;\n",
              "    }\n",
              "\n",
              "    .dataframe tbody tr th {\n",
              "        vertical-align: top;\n",
              "    }\n",
              "\n",
              "    .dataframe thead th {\n",
              "        text-align: right;\n",
              "    }\n",
              "</style>\n",
              "<table border=\"1\" class=\"dataframe\">\n",
              "  <thead>\n",
              "    <tr style=\"text-align: right;\">\n",
              "      <th></th>\n",
              "      <th>Id</th>\n",
              "      <th>MSSubClass</th>\n",
              "      <th>LotFrontage</th>\n",
              "      <th>LotArea</th>\n",
              "      <th>OverallQual</th>\n",
              "      <th>OverallCond</th>\n",
              "      <th>YearBuilt</th>\n",
              "      <th>YearRemodAdd</th>\n",
              "      <th>MasVnrArea</th>\n",
              "      <th>BsmtFinSF1</th>\n",
              "      <th>BsmtFinSF2</th>\n",
              "      <th>BsmtUnfSF</th>\n",
              "      <th>TotalBsmtSF</th>\n",
              "      <th>1stFlrSF</th>\n",
              "      <th>2ndFlrSF</th>\n",
              "      <th>LowQualFinSF</th>\n",
              "      <th>GrLivArea</th>\n",
              "      <th>BsmtFullBath</th>\n",
              "      <th>BsmtHalfBath</th>\n",
              "      <th>FullBath</th>\n",
              "      <th>HalfBath</th>\n",
              "      <th>BedroomAbvGr</th>\n",
              "      <th>KitchenAbvGr</th>\n",
              "      <th>TotRmsAbvGrd</th>\n",
              "      <th>Fireplaces</th>\n",
              "      <th>GarageYrBlt</th>\n",
              "      <th>GarageCars</th>\n",
              "      <th>GarageArea</th>\n",
              "      <th>WoodDeckSF</th>\n",
              "      <th>OpenPorchSF</th>\n",
              "      <th>EnclosedPorch</th>\n",
              "      <th>3SsnPorch</th>\n",
              "      <th>ScreenPorch</th>\n",
              "      <th>PoolArea</th>\n",
              "      <th>MiscVal</th>\n",
              "      <th>MoSold</th>\n",
              "      <th>YrSold</th>\n",
              "      <th>SalePrice</th>\n",
              "    </tr>\n",
              "  </thead>\n",
              "  <tbody>\n",
              "    <tr>\n",
              "      <th>count</th>\n",
              "      <td>1460.000000</td>\n",
              "      <td>1460.000000</td>\n",
              "      <td>1201.000000</td>\n",
              "      <td>1460.000000</td>\n",
              "      <td>1460.000000</td>\n",
              "      <td>1460.000000</td>\n",
              "      <td>1460.000000</td>\n",
              "      <td>1460.000000</td>\n",
              "      <td>1452.000000</td>\n",
              "      <td>1460.000000</td>\n",
              "      <td>1460.000000</td>\n",
              "      <td>1460.000000</td>\n",
              "      <td>1460.000000</td>\n",
              "      <td>1460.000000</td>\n",
              "      <td>1460.000000</td>\n",
              "      <td>1460.000000</td>\n",
              "      <td>1460.000000</td>\n",
              "      <td>1460.000000</td>\n",
              "      <td>1460.000000</td>\n",
              "      <td>1460.000000</td>\n",
              "      <td>1460.000000</td>\n",
              "      <td>1460.000000</td>\n",
              "      <td>1460.000000</td>\n",
              "      <td>1460.000000</td>\n",
              "      <td>1460.000000</td>\n",
              "      <td>1379.000000</td>\n",
              "      <td>1460.000000</td>\n",
              "      <td>1460.000000</td>\n",
              "      <td>1460.000000</td>\n",
              "      <td>1460.000000</td>\n",
              "      <td>1460.000000</td>\n",
              "      <td>1460.000000</td>\n",
              "      <td>1460.000000</td>\n",
              "      <td>1460.000000</td>\n",
              "      <td>1460.000000</td>\n",
              "      <td>1460.000000</td>\n",
              "      <td>1460.000000</td>\n",
              "      <td>1460.000000</td>\n",
              "    </tr>\n",
              "    <tr>\n",
              "      <th>mean</th>\n",
              "      <td>730.500000</td>\n",
              "      <td>56.897260</td>\n",
              "      <td>70.049958</td>\n",
              "      <td>10516.828082</td>\n",
              "      <td>6.099315</td>\n",
              "      <td>5.575342</td>\n",
              "      <td>1971.267808</td>\n",
              "      <td>1984.865753</td>\n",
              "      <td>103.685262</td>\n",
              "      <td>443.639726</td>\n",
              "      <td>46.549315</td>\n",
              "      <td>567.240411</td>\n",
              "      <td>1057.429452</td>\n",
              "      <td>1162.626712</td>\n",
              "      <td>346.992466</td>\n",
              "      <td>5.844521</td>\n",
              "      <td>1515.463699</td>\n",
              "      <td>0.425342</td>\n",
              "      <td>0.057534</td>\n",
              "      <td>1.565068</td>\n",
              "      <td>0.382877</td>\n",
              "      <td>2.866438</td>\n",
              "      <td>1.046575</td>\n",
              "      <td>6.517808</td>\n",
              "      <td>0.613014</td>\n",
              "      <td>1978.506164</td>\n",
              "      <td>1.767123</td>\n",
              "      <td>472.980137</td>\n",
              "      <td>94.244521</td>\n",
              "      <td>46.660274</td>\n",
              "      <td>21.954110</td>\n",
              "      <td>3.409589</td>\n",
              "      <td>15.060959</td>\n",
              "      <td>2.758904</td>\n",
              "      <td>43.489041</td>\n",
              "      <td>6.321918</td>\n",
              "      <td>2007.815753</td>\n",
              "      <td>180921.195890</td>\n",
              "    </tr>\n",
              "    <tr>\n",
              "      <th>std</th>\n",
              "      <td>421.610009</td>\n",
              "      <td>42.300571</td>\n",
              "      <td>24.284752</td>\n",
              "      <td>9981.264932</td>\n",
              "      <td>1.382997</td>\n",
              "      <td>1.112799</td>\n",
              "      <td>30.202904</td>\n",
              "      <td>20.645407</td>\n",
              "      <td>181.066207</td>\n",
              "      <td>456.098091</td>\n",
              "      <td>161.319273</td>\n",
              "      <td>441.866955</td>\n",
              "      <td>438.705324</td>\n",
              "      <td>386.587738</td>\n",
              "      <td>436.528436</td>\n",
              "      <td>48.623081</td>\n",
              "      <td>525.480383</td>\n",
              "      <td>0.518911</td>\n",
              "      <td>0.238753</td>\n",
              "      <td>0.550916</td>\n",
              "      <td>0.502885</td>\n",
              "      <td>0.815778</td>\n",
              "      <td>0.220338</td>\n",
              "      <td>1.625393</td>\n",
              "      <td>0.644666</td>\n",
              "      <td>24.689725</td>\n",
              "      <td>0.747315</td>\n",
              "      <td>213.804841</td>\n",
              "      <td>125.338794</td>\n",
              "      <td>66.256028</td>\n",
              "      <td>61.119149</td>\n",
              "      <td>29.317331</td>\n",
              "      <td>55.757415</td>\n",
              "      <td>40.177307</td>\n",
              "      <td>496.123024</td>\n",
              "      <td>2.703626</td>\n",
              "      <td>1.328095</td>\n",
              "      <td>79442.502883</td>\n",
              "    </tr>\n",
              "    <tr>\n",
              "      <th>min</th>\n",
              "      <td>1.000000</td>\n",
              "      <td>20.000000</td>\n",
              "      <td>21.000000</td>\n",
              "      <td>1300.000000</td>\n",
              "      <td>1.000000</td>\n",
              "      <td>1.000000</td>\n",
              "      <td>1872.000000</td>\n",
              "      <td>1950.000000</td>\n",
              "      <td>0.000000</td>\n",
              "      <td>0.000000</td>\n",
              "      <td>0.000000</td>\n",
              "      <td>0.000000</td>\n",
              "      <td>0.000000</td>\n",
              "      <td>334.000000</td>\n",
              "      <td>0.000000</td>\n",
              "      <td>0.000000</td>\n",
              "      <td>334.000000</td>\n",
              "      <td>0.000000</td>\n",
              "      <td>0.000000</td>\n",
              "      <td>0.000000</td>\n",
              "      <td>0.000000</td>\n",
              "      <td>0.000000</td>\n",
              "      <td>0.000000</td>\n",
              "      <td>2.000000</td>\n",
              "      <td>0.000000</td>\n",
              "      <td>1900.000000</td>\n",
              "      <td>0.000000</td>\n",
              "      <td>0.000000</td>\n",
              "      <td>0.000000</td>\n",
              "      <td>0.000000</td>\n",
              "      <td>0.000000</td>\n",
              "      <td>0.000000</td>\n",
              "      <td>0.000000</td>\n",
              "      <td>0.000000</td>\n",
              "      <td>0.000000</td>\n",
              "      <td>1.000000</td>\n",
              "      <td>2006.000000</td>\n",
              "      <td>34900.000000</td>\n",
              "    </tr>\n",
              "    <tr>\n",
              "      <th>25%</th>\n",
              "      <td>365.750000</td>\n",
              "      <td>20.000000</td>\n",
              "      <td>59.000000</td>\n",
              "      <td>7553.500000</td>\n",
              "      <td>5.000000</td>\n",
              "      <td>5.000000</td>\n",
              "      <td>1954.000000</td>\n",
              "      <td>1967.000000</td>\n",
              "      <td>0.000000</td>\n",
              "      <td>0.000000</td>\n",
              "      <td>0.000000</td>\n",
              "      <td>223.000000</td>\n",
              "      <td>795.750000</td>\n",
              "      <td>882.000000</td>\n",
              "      <td>0.000000</td>\n",
              "      <td>0.000000</td>\n",
              "      <td>1129.500000</td>\n",
              "      <td>0.000000</td>\n",
              "      <td>0.000000</td>\n",
              "      <td>1.000000</td>\n",
              "      <td>0.000000</td>\n",
              "      <td>2.000000</td>\n",
              "      <td>1.000000</td>\n",
              "      <td>5.000000</td>\n",
              "      <td>0.000000</td>\n",
              "      <td>1961.000000</td>\n",
              "      <td>1.000000</td>\n",
              "      <td>334.500000</td>\n",
              "      <td>0.000000</td>\n",
              "      <td>0.000000</td>\n",
              "      <td>0.000000</td>\n",
              "      <td>0.000000</td>\n",
              "      <td>0.000000</td>\n",
              "      <td>0.000000</td>\n",
              "      <td>0.000000</td>\n",
              "      <td>5.000000</td>\n",
              "      <td>2007.000000</td>\n",
              "      <td>129975.000000</td>\n",
              "    </tr>\n",
              "    <tr>\n",
              "      <th>50%</th>\n",
              "      <td>730.500000</td>\n",
              "      <td>50.000000</td>\n",
              "      <td>69.000000</td>\n",
              "      <td>9478.500000</td>\n",
              "      <td>6.000000</td>\n",
              "      <td>5.000000</td>\n",
              "      <td>1973.000000</td>\n",
              "      <td>1994.000000</td>\n",
              "      <td>0.000000</td>\n",
              "      <td>383.500000</td>\n",
              "      <td>0.000000</td>\n",
              "      <td>477.500000</td>\n",
              "      <td>991.500000</td>\n",
              "      <td>1087.000000</td>\n",
              "      <td>0.000000</td>\n",
              "      <td>0.000000</td>\n",
              "      <td>1464.000000</td>\n",
              "      <td>0.000000</td>\n",
              "      <td>0.000000</td>\n",
              "      <td>2.000000</td>\n",
              "      <td>0.000000</td>\n",
              "      <td>3.000000</td>\n",
              "      <td>1.000000</td>\n",
              "      <td>6.000000</td>\n",
              "      <td>1.000000</td>\n",
              "      <td>1980.000000</td>\n",
              "      <td>2.000000</td>\n",
              "      <td>480.000000</td>\n",
              "      <td>0.000000</td>\n",
              "      <td>25.000000</td>\n",
              "      <td>0.000000</td>\n",
              "      <td>0.000000</td>\n",
              "      <td>0.000000</td>\n",
              "      <td>0.000000</td>\n",
              "      <td>0.000000</td>\n",
              "      <td>6.000000</td>\n",
              "      <td>2008.000000</td>\n",
              "      <td>163000.000000</td>\n",
              "    </tr>\n",
              "    <tr>\n",
              "      <th>75%</th>\n",
              "      <td>1095.250000</td>\n",
              "      <td>70.000000</td>\n",
              "      <td>80.000000</td>\n",
              "      <td>11601.500000</td>\n",
              "      <td>7.000000</td>\n",
              "      <td>6.000000</td>\n",
              "      <td>2000.000000</td>\n",
              "      <td>2004.000000</td>\n",
              "      <td>166.000000</td>\n",
              "      <td>712.250000</td>\n",
              "      <td>0.000000</td>\n",
              "      <td>808.000000</td>\n",
              "      <td>1298.250000</td>\n",
              "      <td>1391.250000</td>\n",
              "      <td>728.000000</td>\n",
              "      <td>0.000000</td>\n",
              "      <td>1776.750000</td>\n",
              "      <td>1.000000</td>\n",
              "      <td>0.000000</td>\n",
              "      <td>2.000000</td>\n",
              "      <td>1.000000</td>\n",
              "      <td>3.000000</td>\n",
              "      <td>1.000000</td>\n",
              "      <td>7.000000</td>\n",
              "      <td>1.000000</td>\n",
              "      <td>2002.000000</td>\n",
              "      <td>2.000000</td>\n",
              "      <td>576.000000</td>\n",
              "      <td>168.000000</td>\n",
              "      <td>68.000000</td>\n",
              "      <td>0.000000</td>\n",
              "      <td>0.000000</td>\n",
              "      <td>0.000000</td>\n",
              "      <td>0.000000</td>\n",
              "      <td>0.000000</td>\n",
              "      <td>8.000000</td>\n",
              "      <td>2009.000000</td>\n",
              "      <td>214000.000000</td>\n",
              "    </tr>\n",
              "    <tr>\n",
              "      <th>max</th>\n",
              "      <td>1460.000000</td>\n",
              "      <td>190.000000</td>\n",
              "      <td>313.000000</td>\n",
              "      <td>215245.000000</td>\n",
              "      <td>10.000000</td>\n",
              "      <td>9.000000</td>\n",
              "      <td>2010.000000</td>\n",
              "      <td>2010.000000</td>\n",
              "      <td>1600.000000</td>\n",
              "      <td>5644.000000</td>\n",
              "      <td>1474.000000</td>\n",
              "      <td>2336.000000</td>\n",
              "      <td>6110.000000</td>\n",
              "      <td>4692.000000</td>\n",
              "      <td>2065.000000</td>\n",
              "      <td>572.000000</td>\n",
              "      <td>5642.000000</td>\n",
              "      <td>3.000000</td>\n",
              "      <td>2.000000</td>\n",
              "      <td>3.000000</td>\n",
              "      <td>2.000000</td>\n",
              "      <td>8.000000</td>\n",
              "      <td>3.000000</td>\n",
              "      <td>14.000000</td>\n",
              "      <td>3.000000</td>\n",
              "      <td>2010.000000</td>\n",
              "      <td>4.000000</td>\n",
              "      <td>1418.000000</td>\n",
              "      <td>857.000000</td>\n",
              "      <td>547.000000</td>\n",
              "      <td>552.000000</td>\n",
              "      <td>508.000000</td>\n",
              "      <td>480.000000</td>\n",
              "      <td>738.000000</td>\n",
              "      <td>15500.000000</td>\n",
              "      <td>12.000000</td>\n",
              "      <td>2010.000000</td>\n",
              "      <td>755000.000000</td>\n",
              "    </tr>\n",
              "  </tbody>\n",
              "</table>\n",
              "</div>"
            ],
            "text/plain": [
              "                Id   MSSubClass  LotFrontage        LotArea  OverallQual  \\\n",
              "count  1460.000000  1460.000000  1201.000000    1460.000000  1460.000000   \n",
              "mean    730.500000    56.897260    70.049958   10516.828082     6.099315   \n",
              "std     421.610009    42.300571    24.284752    9981.264932     1.382997   \n",
              "min       1.000000    20.000000    21.000000    1300.000000     1.000000   \n",
              "25%     365.750000    20.000000    59.000000    7553.500000     5.000000   \n",
              "50%     730.500000    50.000000    69.000000    9478.500000     6.000000   \n",
              "75%    1095.250000    70.000000    80.000000   11601.500000     7.000000   \n",
              "max    1460.000000   190.000000   313.000000  215245.000000    10.000000   \n",
              "\n",
              "       OverallCond    YearBuilt  YearRemodAdd   MasVnrArea   BsmtFinSF1  \\\n",
              "count  1460.000000  1460.000000   1460.000000  1452.000000  1460.000000   \n",
              "mean      5.575342  1971.267808   1984.865753   103.685262   443.639726   \n",
              "std       1.112799    30.202904     20.645407   181.066207   456.098091   \n",
              "min       1.000000  1872.000000   1950.000000     0.000000     0.000000   \n",
              "25%       5.000000  1954.000000   1967.000000     0.000000     0.000000   \n",
              "50%       5.000000  1973.000000   1994.000000     0.000000   383.500000   \n",
              "75%       6.000000  2000.000000   2004.000000   166.000000   712.250000   \n",
              "max       9.000000  2010.000000   2010.000000  1600.000000  5644.000000   \n",
              "\n",
              "        BsmtFinSF2    BsmtUnfSF  TotalBsmtSF     1stFlrSF     2ndFlrSF  \\\n",
              "count  1460.000000  1460.000000  1460.000000  1460.000000  1460.000000   \n",
              "mean     46.549315   567.240411  1057.429452  1162.626712   346.992466   \n",
              "std     161.319273   441.866955   438.705324   386.587738   436.528436   \n",
              "min       0.000000     0.000000     0.000000   334.000000     0.000000   \n",
              "25%       0.000000   223.000000   795.750000   882.000000     0.000000   \n",
              "50%       0.000000   477.500000   991.500000  1087.000000     0.000000   \n",
              "75%       0.000000   808.000000  1298.250000  1391.250000   728.000000   \n",
              "max    1474.000000  2336.000000  6110.000000  4692.000000  2065.000000   \n",
              "\n",
              "       LowQualFinSF    GrLivArea  BsmtFullBath  BsmtHalfBath     FullBath  \\\n",
              "count   1460.000000  1460.000000   1460.000000   1460.000000  1460.000000   \n",
              "mean       5.844521  1515.463699      0.425342      0.057534     1.565068   \n",
              "std       48.623081   525.480383      0.518911      0.238753     0.550916   \n",
              "min        0.000000   334.000000      0.000000      0.000000     0.000000   \n",
              "25%        0.000000  1129.500000      0.000000      0.000000     1.000000   \n",
              "50%        0.000000  1464.000000      0.000000      0.000000     2.000000   \n",
              "75%        0.000000  1776.750000      1.000000      0.000000     2.000000   \n",
              "max      572.000000  5642.000000      3.000000      2.000000     3.000000   \n",
              "\n",
              "          HalfBath  BedroomAbvGr  KitchenAbvGr  TotRmsAbvGrd   Fireplaces  \\\n",
              "count  1460.000000   1460.000000   1460.000000   1460.000000  1460.000000   \n",
              "mean      0.382877      2.866438      1.046575      6.517808     0.613014   \n",
              "std       0.502885      0.815778      0.220338      1.625393     0.644666   \n",
              "min       0.000000      0.000000      0.000000      2.000000     0.000000   \n",
              "25%       0.000000      2.000000      1.000000      5.000000     0.000000   \n",
              "50%       0.000000      3.000000      1.000000      6.000000     1.000000   \n",
              "75%       1.000000      3.000000      1.000000      7.000000     1.000000   \n",
              "max       2.000000      8.000000      3.000000     14.000000     3.000000   \n",
              "\n",
              "       GarageYrBlt   GarageCars   GarageArea   WoodDeckSF  OpenPorchSF  \\\n",
              "count  1379.000000  1460.000000  1460.000000  1460.000000  1460.000000   \n",
              "mean   1978.506164     1.767123   472.980137    94.244521    46.660274   \n",
              "std      24.689725     0.747315   213.804841   125.338794    66.256028   \n",
              "min    1900.000000     0.000000     0.000000     0.000000     0.000000   \n",
              "25%    1961.000000     1.000000   334.500000     0.000000     0.000000   \n",
              "50%    1980.000000     2.000000   480.000000     0.000000    25.000000   \n",
              "75%    2002.000000     2.000000   576.000000   168.000000    68.000000   \n",
              "max    2010.000000     4.000000  1418.000000   857.000000   547.000000   \n",
              "\n",
              "       EnclosedPorch    3SsnPorch  ScreenPorch     PoolArea       MiscVal  \\\n",
              "count    1460.000000  1460.000000  1460.000000  1460.000000   1460.000000   \n",
              "mean       21.954110     3.409589    15.060959     2.758904     43.489041   \n",
              "std        61.119149    29.317331    55.757415    40.177307    496.123024   \n",
              "min         0.000000     0.000000     0.000000     0.000000      0.000000   \n",
              "25%         0.000000     0.000000     0.000000     0.000000      0.000000   \n",
              "50%         0.000000     0.000000     0.000000     0.000000      0.000000   \n",
              "75%         0.000000     0.000000     0.000000     0.000000      0.000000   \n",
              "max       552.000000   508.000000   480.000000   738.000000  15500.000000   \n",
              "\n",
              "            MoSold       YrSold      SalePrice  \n",
              "count  1460.000000  1460.000000    1460.000000  \n",
              "mean      6.321918  2007.815753  180921.195890  \n",
              "std       2.703626     1.328095   79442.502883  \n",
              "min       1.000000  2006.000000   34900.000000  \n",
              "25%       5.000000  2007.000000  129975.000000  \n",
              "50%       6.000000  2008.000000  163000.000000  \n",
              "75%       8.000000  2009.000000  214000.000000  \n",
              "max      12.000000  2010.000000  755000.000000  "
            ]
          },
          "execution_count": 27,
          "metadata": {},
          "output_type": "execute_result"
        }
      ],
      "source": [
        "data.describe()"
      ]
    },
    {
      "cell_type": "code",
      "execution_count": 25,
      "id": "51e1c5cd",
      "metadata": {},
      "outputs": [
        {
          "data": {
            "application/vnd.jupyter.widget-view+json": {
              "model_id": "39d0dc7b607246f79f726f5ed45d7802",
              "version_major": 2,
              "version_minor": 0
            },
            "text/plain": [
              "interactive(children=(Dropdown(description='column', options=('MSZoning', 'Street', 'Alley', 'LotShape', 'Land…"
            ]
          },
          "metadata": {},
          "output_type": "display_data"
        }
      ],
      "source": [
        "@interact\n",
        "def check (column= list(data.select_dtypes('object').columns)):\n",
        "    return data[[column,'SalePrice']].groupby(column).agg(['max','min','mean','std','sum','count'])"
      ]
    },
    {
      "cell_type": "code",
      "execution_count": 28,
      "id": "2146447f",
      "metadata": {},
      "outputs": [
        {
          "data": {
            "text/plain": [
              "0    208500\n",
              "1    181500\n",
              "2    223500\n",
              "3    140000\n",
              "4    250000\n",
              "5    143000\n",
              "6    307000\n",
              "7    200000\n",
              "8    129900\n",
              "9    118000\n",
              "Name: SalePrice, dtype: int64"
            ]
          },
          "execution_count": 28,
          "metadata": {},
          "output_type": "execute_result"
        }
      ],
      "source": [
        "# lets check TARGET COLUMN\n",
        "data['SalePrice'].head(10)"
      ]
    },
    {
      "cell_type": "markdown",
      "id": "a545187e",
      "metadata": {},
      "source": [
        "## MEAN & MEDIAN"
      ]
    },
    {
      "cell_type": "code",
      "execution_count": 31,
      "id": "fe5f72ba",
      "metadata": {},
      "outputs": [
        {
          "name": "stdout",
          "output_type": "stream",
          "text": [
            "Mean Value: 180921.19589041095\n"
          ]
        }
      ],
      "source": [
        "# mean SalePrice\n",
        "mean = np.mean(data['SalePrice'])\n",
        "print(\"Mean Value:\",mean)\n",
        "# DRAWBACK IN MEAN: OUTLIERS"
      ]
    },
    {
      "cell_type": "code",
      "execution_count": 32,
      "id": "54a45e63",
      "metadata": {},
      "outputs": [
        {
          "name": "stdout",
          "output_type": "stream",
          "text": [
            "Median Value: 163000.0\n"
          ]
        }
      ],
      "source": [
        "# median SalePrice\n",
        "median = np.median(data['SalePrice'])\n",
        "print(\"Median Value:\",median)"
      ]
    },
    {
      "cell_type": "code",
      "execution_count": 36,
      "id": "ff6ab1d6",
      "metadata": {},
      "outputs": [
        {
          "name": "stdout",
          "output_type": "stream",
          "text": [
            "Diff between MEAN and MEDIAN 17921.19589041095\n"
          ]
        }
      ],
      "source": [
        "Diff = mean - median\n",
        "print(\"Diff between MEAN and MEDIAN\",Diff)  # outliers confirm"
      ]
    },
    {
      "cell_type": "markdown",
      "id": "f3e2faef",
      "metadata": {},
      "source": [
        "## OUTLIERS"
      ]
    },
    {
      "cell_type": "code",
      "execution_count": 38,
      "id": "28f31051",
      "metadata": {},
      "outputs": [
        {
          "data": {
            "text/plain": [
              "326099.9999999999"
            ]
          },
          "execution_count": 38,
          "metadata": {},
          "output_type": "execute_result"
        }
      ],
      "source": [
        "x = data['SalePrice'].quantile(0.95)\n",
        "x"
      ]
    },
    {
      "cell_type": "markdown",
      "id": "0d061fba",
      "metadata": {},
      "source": [
        "IQR"
      ]
    },
    {
      "cell_type": "code",
      "execution_count": 40,
      "id": "4a06b84e",
      "metadata": {},
      "outputs": [
        {
          "name": "stdout",
          "output_type": "stream",
          "text": [
            "Q1: 129975.0\n",
            "Q2: 214000.0\n",
            "IQR: 84025.0\n"
          ]
        }
      ],
      "source": [
        "q1 = data['SalePrice'].quantile(0.25)   # 25 percentile\n",
        "q3 = data['SalePrice'].quantile(0.75)   # 75 percentile\n",
        "print(\"Q1:\",q1)\n",
        "print(\"Q2:\",q3)\n",
        "print(\"IQR:\",q3-q1)                     # spread of middle 50%"
      ]
    },
    {
      "cell_type": "code",
      "execution_count": 42,
      "id": "fe294977",
      "metadata": {},
      "outputs": [
        {
          "data": {
            "image/png": "[encoded data removed]",
            "text/plain": [
              "<Figure size 1500x500 with 1 Axes>"
            ]
          },
          "metadata": {},
          "output_type": "display_data"
        }
      ],
      "source": [
        "# boxplot for outliers\n",
        "sns.boxplot(data['SalePrice'])\n",
        "plt.show()                      # outliers are DOTS outside WHISKERS"
      ]
    },
    {
      "cell_type": "code",
      "execution_count": 53,
      "id": "61baffd7",
      "metadata": {},
      "outputs": [],
      "source": [
        "# detect outliers IQR\n",
        "outlier_lower_limit = q1 - 1.5 * (q3-q1)\n",
        "outlier_upper_limit = q3 + 1.5 * (q3-q1)"
      ]
    },
    {
      "cell_type": "code",
      "execution_count": 54,
      "id": "cda2dc75",
      "metadata": {},
      "outputs": [
        {
          "name": "stdout",
          "output_type": "stream",
          "text": [
            "outlier_lower_limit : 3937.5\n",
            "outlier_upper_limit : 340037.5\n"
          ]
        }
      ],
      "source": [
        "print(\"outlier_lower_limit :\",outlier_lower_limit)\n",
        "print(\"outlier_upper_limit :\",outlier_upper_limit)"
      ]
    },
    {
      "cell_type": "code",
      "execution_count": 51,
      "id": "6e60cc6b",
      "metadata": {},
      "outputs": [],
      "source": [
        "# extreme LOW HIGH outliers\n",
        "Sales_price = data['SalePrice']\n",
        "lowest_outlier = Sales_price[Sales_price < outlier_lower_limit].count()\n",
        "highest_outlier = Sales_price[Sales_price < outlier_upper_limit].count()"
      ]
    },
    {
      "cell_type": "code",
      "execution_count": 52,
      "id": "b351139f",
      "metadata": {},
      "outputs": [
        {
          "name": "stdout",
          "output_type": "stream",
          "text": [
            "Lowest Outlier Value is :  0\n",
            "Highest Outlier Value is : 1399\n",
            "Total Outliers Value is : 1399\n"
          ]
        }
      ],
      "source": [
        "print(\"Lowest Outlier Value is : \",lowest_outlier)\n",
        "print(\"Highest Outlier Value is :\",highest_outlier)\n",
        "print(\"Total Outliers Value is :\", lowest_outlier + highest_outlier)"
      ]
    },
    {
      "cell_type": "markdown",
      "id": "59ad00a9",
      "metadata": {},
      "source": [
        "## SKEWNESS"
      ]
    },
    {
      "cell_type": "code",
      "execution_count": 63,
      "id": "46638bf8",
      "metadata": {},
      "outputs": [
        {
          "name": "stderr",
          "output_type": "stream",
          "text": [
            "c:\\Users\\91810\\anaconda3\\Lib\\site-packages\\seaborn\\axisgrid.py:118: UserWarning: The figure layout has changed to tight\n",
            "  self._figure.tight_layout(*args, **kwargs)\n"
          ]
        },
        {
          "data": {
            "image/png": "[encoded data removed]",
            "text/plain": [
              "<Figure size 800x400 with 1 Axes>"
            ]
          },
          "metadata": {},
          "output_type": "display_data"
        }
      ],
      "source": [
        "sns.displot(data['SalePrice'],\n",
        "    kde = True,    \n",
        "    bins=40,\n",
        "    color='skyblue',\n",
        "    stat='density',\n",
        "    element='step',\n",
        "    height=4,\n",
        "    aspect=2)  # Kernel Density Estimate Approximates Distribution\n",
        "plt.show()"
      ]
    },
    {
      "cell_type": "markdown",
      "id": "ed55a1e4",
      "metadata": {},
      "source": [
        "## MODE"
      ]
    },
    {
      "cell_type": "code",
      "execution_count": 64,
      "id": "2e981f21",
      "metadata": {},
      "outputs": [
        {
          "name": "stdout",
          "output_type": "stream",
          "text": [
            "Mode Value : 0    140000\n",
            "Name: SalePrice, dtype: int64\n"
          ]
        }
      ],
      "source": [
        "mode = Sales_price.mode()\n",
        "print(\"Mode Value :\", mode)"
      ]
    },
    {
      "cell_type": "code",
      "execution_count": null,
      "id": "31b0ebb2",
      "metadata": {},
      "outputs": [
        {
          "data": {
            "image/png": "[encoded data removed]",
            "text/plain": [
              "<Figure size 1000x600 with 1 Axes>"
            ]
          },
          "metadata": {},
          "output_type": "display_data"
        }
      ],
      "source": [
        "# HISTOGRAM - MEAN MEDIAN MODE\n",
        "plt.figure(figsize=(10,6))\n",
        "plt.hist(Sales_price, bins=40 , color=\"skyblue\")\n",
        "plt.plot([mode]*300, range(300), color=\"black\", label=\"mode\")\n",
        "plt.plot([median]*300, range(300), label=\"median\")\n",
        "plt.plot([mean]*300, range(300), label=\"mean\")\n",
        "plt.ylim(0, 250)\n",
        "plt.title(\"\")\n",
        "plt.legend()\n",
        "plt.show()"
      ]
    },
    {
      "cell_type": "markdown",
      "id": "a9137512",
      "metadata": {},
      "source": [
        "## SPREAD OF DATA"
      ]
    },
    {
      "cell_type": "code",
      "execution_count": 75,
      "id": "b0b5f6a3",
      "metadata": {},
      "outputs": [
        {
          "name": "stdout",
          "output_type": "stream",
          "text": [
            "Range in data  720100\n"
          ]
        }
      ],
      "source": [
        "# RANGE OF DATA \n",
        "# MIN - MAX\n",
        "Range = np.max(Sales_price) -np.min(Sales_price)\n",
        "print(\"Range in data \", Range)"
      ]
    },
    {
      "cell_type": "code",
      "execution_count": 74,
      "id": "8baadba5",
      "metadata": {},
      "outputs": [
        {
          "name": "stdout",
          "output_type": "stream",
          "text": [
            "Variance in data  6311111264.297451\n"
          ]
        }
      ],
      "source": [
        "# VARIANCE OF DATA\n",
        "variance = Sales_price.var()\n",
        "print(\"Variance in data \",variance)"
      ]
    },
    {
      "cell_type": "code",
      "execution_count": 73,
      "id": "a9575646",
      "metadata": {},
      "outputs": [
        {
          "name": "stdout",
          "output_type": "stream",
          "text": [
            "Standard Deviation is 79442.50288288663\n"
          ]
        }
      ],
      "source": [
        "# STANDARD DEVIATION\n",
        "from math import sqrt\n",
        "std = sqrt(variance)\n",
        "print(\"Standard Deviation is\",std)"
      ]
    },
    {
      "cell_type": "markdown",
      "id": "b8a0af3a",
      "metadata": {},
      "source": [
        "## CORRELATION"
      ]
    },
    {
      "cell_type": "code",
      "execution_count": 77,
      "id": "fe244e42",
      "metadata": {},
      "outputs": [],
      "source": [
        "# +1: Perfect positive linear relationship\n",
        "\n",
        "# -1: Perfect negative linear relationship\n",
        "\n",
        "# 0: No linear relationship"
      ]
    },
    {
      "cell_type": "code",
      "execution_count": 78,
      "id": "c3e5431b",
      "metadata": {},
      "outputs": [
        {
          "data": {
            "text/plain": [
              "GrLivArea\n",
              "864     22\n",
              "1040    14\n",
              "894     11\n",
              "1456    10\n",
              "848     10\n",
              "        ..\n",
              "2296     1\n",
              "1123     1\n",
              "1199     1\n",
              "1473     1\n",
              "1256     1\n",
              "Name: count, Length: 861, dtype: int64"
            ]
          },
          "execution_count": 78,
          "metadata": {},
          "output_type": "execute_result"
        }
      ],
      "source": [
        "data['GrLivArea'].value_counts()"
      ]
    },
    {
      "cell_type": "code",
      "execution_count": 83,
      "id": "004f6bcc",
      "metadata": {},
      "outputs": [
        {
          "name": "stdout",
          "output_type": "stream",
          "text": [
            "CORRELATION BETWEEN SALES PRICE AND LIVING ROOM AREA IS 0.7086244776126521\n"
          ]
        }
      ],
      "source": [
        "correlation = data['SalePrice'].corr(data['GrLivArea'])\n",
        "print(\"CORRELATION BETWEEN SALES PRICE AND LIVING ROOM AREA IS\", correlation) # high correlation"
      ]
    },
    {
      "cell_type": "code",
      "execution_count": 82,
      "id": "2d1f9a43",
      "metadata": {},
      "outputs": [
        {
          "name": "stdout",
          "output_type": "stream",
          "text": [
            "CORRELATION BETWEEN SALES PRICE AND LIVING ROOM AREA IS 70.862448\n"
          ]
        }
      ],
      "source": [
        "# OR \n",
        "living_room_area = data.GrLivArea\n",
        "corr = np.corrcoef( Sales_price, living_room_area )[0,1]\n",
        "print(\"CORRELATION BETWEEN SALES PRICE AND LIVING ROOM AREA IS {0:2f}\".format(corr*100))"
      ]
    },
    {
      "cell_type": "code",
      "execution_count": 90,
      "id": "608c15ca",
      "metadata": {},
      "outputs": [
        {
          "name": "stdout",
          "output_type": "stream",
          "text": [
            "                 OVERALL CORRELATIONS\n",
            " \n",
            "              LotArea  GrLivArea  GarageArea  SalePrice\n",
            "LotArea     1.000000   0.263116    0.180403   0.263843\n",
            "GrLivArea   0.263116   1.000000    0.468997   0.708624\n",
            "GarageArea  0.180403   0.468997    1.000000   0.623431\n",
            "SalePrice   0.263843   0.708624    0.623431   1.000000\n"
          ]
        }
      ],
      "source": [
        "#considering 4 continous variable and finding the correlation\n",
        "\n",
        "x = data[['LotArea','GrLivArea','GarageArea','SalePrice']]\n",
        "corr = x.corr()     \n",
        "print(\"                 OVERALL CORRELATIONS\\n \\n\",corr)"
      ]
    },
    {
      "cell_type": "markdown",
      "id": "7f10bc2e",
      "metadata": {},
      "source": [
        "## CAUSATION"
      ]
    },
    {
      "cell_type": "code",
      "execution_count": 91,
      "id": "a7c5bd92",
      "metadata": {},
      "outputs": [],
      "source": [
        "# Just because two things are correlated doesn’t mean one causes the other UNLIKE CORRELATION"
      ]
    },
    {
      "cell_type": "markdown",
      "id": "ccf2f04e",
      "metadata": {},
      "source": [
        "LINEAR REGRESSION : causation test"
      ]
    },
    {
      "cell_type": "code",
      "execution_count": 92,
      "id": "7a0bc0d1",
      "metadata": {},
      "outputs": [
        {
          "name": "stdout",
          "output_type": "stream",
          "text": [
            "                            OLS Regression Results                            \n",
            "==============================================================================\n",
            "Dep. Variable:              SalePrice   R-squared:                       0.502\n",
            "Model:                            OLS   Adj. R-squared:                  0.502\n",
            "Method:                 Least Squares   F-statistic:                     1471.\n",
            "Date:                Fri, 01 Aug 2025   Prob (F-statistic):          4.52e-223\n",
            "Time:                        20:17:34   Log-Likelihood:                -18035.\n",
            "No. Observations:                1460   AIC:                         3.607e+04\n",
            "Df Residuals:                    1458   BIC:                         3.608e+04\n",
            "Df Model:                           1                                         \n",
            "Covariance Type:            nonrobust                                         \n",
            "==============================================================================\n",
            "                 coef    std err          t      P>|t|      [0.025      0.975]\n",
            "------------------------------------------------------------------------------\n",
            "const       1.857e+04   4480.755      4.144      0.000    9779.612    2.74e+04\n",
            "GrLivArea    107.1304      2.794     38.348      0.000     101.650     112.610\n",
            "==============================================================================\n",
            "Omnibus:                      261.166   Durbin-Watson:                   2.025\n",
            "Prob(Omnibus):                  0.000   Jarque-Bera (JB):             3432.287\n",
            "Skew:                           0.410   Prob(JB):                         0.00\n",
            "Kurtosis:                      10.467   Cond. No.                     4.90e+03\n",
            "==============================================================================\n",
            "\n",
            "Notes:\n",
            "[1] Standard Errors assume that the covariance matrix of the errors is correctly specified.\n",
            "[2] The condition number is large, 4.9e+03. This might indicate that there are\n",
            "strong multicollinearity or other numerical problems.\n"
          ]
        }
      ],
      "source": [
        "# regression analysis\n",
        "import statsmodels.api as sm\n",
        "# set independant and dependant variables\n",
        "X = data['GrLivArea']   # Predictor (independenat var)\n",
        "y = data['SalePrice']   # Response (dependant var)\n",
        "# add a constant to predictor (bias term)\n",
        "X = sm.add_constant(X)\n",
        "# Run regrssion model\n",
        "model = sm.OLS(y,X).fit()\n",
        "# print regression summary\n",
        "print(model.summary())"
      ]
    },
    {
      "cell_type": "code",
      "execution_count": 98,
      "id": "3e328350",
      "metadata": {},
      "outputs": [
        {
          "name": "stdout",
          "output_type": "stream",
          "text": [
            "                            OLS Regression Results                            \n",
            "==============================================================================\n",
            "Dep. Variable:              SalePrice   R-squared:                       0.773\n",
            "Model:                            OLS   Adj. R-squared:                  0.772\n",
            "Method:                 Least Squares   F-statistic:                     619.1\n",
            "Date:                Fri, 01 Aug 2025   Prob (F-statistic):               0.00\n",
            "Time:                        20:29:00   Log-Likelihood:                -17460.\n",
            "No. Observations:                1460   AIC:                         3.494e+04\n",
            "Df Residuals:                    1451   BIC:                         3.499e+04\n",
            "Df Model:                           8                                         \n",
            "Covariance Type:            nonrobust                                         \n",
            "===============================================================================\n",
            "                  coef    std err          t      P>|t|      [0.025      0.975]\n",
            "-------------------------------------------------------------------------------\n",
            "const       -7.662e+05      9e+04     -8.513      0.000   -9.43e+05    -5.9e+05\n",
            "OverallQual  2.011e+04   1166.052     17.243      0.000    1.78e+04    2.24e+04\n",
            "GrLivArea      48.2682      3.174     15.210      0.000      42.043      54.493\n",
            "GarageCars   1.378e+04   1817.229      7.586      0.000    1.02e+04    1.73e+04\n",
            "TotalBsmtSF    20.5818      4.270      4.820      0.000      12.205      28.958\n",
            "1stFlrSF       11.1392      4.968      2.242      0.025       1.394      20.884\n",
            "YearBuilt     352.0924     47.335      7.438      0.000     259.240     444.945\n",
            "FullBath    -4460.4262   2644.080     -1.687      0.092   -9647.053     726.201\n",
            "Fireplaces   8448.9086   1805.884      4.679      0.000    4906.486     1.2e+04\n",
            "==============================================================================\n",
            "Omnibus:                      440.545   Durbin-Watson:                   1.987\n",
            "Prob(Omnibus):                  0.000   Jarque-Bera (JB):            48824.138\n",
            "Skew:                          -0.253   Prob(JB):                         0.00\n",
            "Kurtosis:                      31.325   Cond. No.                     2.71e+05\n",
            "==============================================================================\n",
            "\n",
            "Notes:\n",
            "[1] Standard Errors assume that the covariance matrix of the errors is correctly specified.\n",
            "[2] The condition number is large, 2.71e+05. This might indicate that there are\n",
            "strong multicollinearity or other numerical problems.\n"
          ]
        }
      ],
      "source": [
        "import statsmodels.api as sm\n",
        "\n",
        "# Load the training dataset\n",
        "data = pd.read_csv('../data/train.csv')  # Navigate up to the data folder from notebooks\n",
        "\n",
        "# Select top numeric predictors based on correlation with SalePrice\n",
        "selected_features = ['OverallQual', 'GrLivArea', 'GarageCars', 'TotalBsmtSF',\n",
        "                     '1stFlrSF', 'YearBuilt', 'FullBath', 'Fireplaces']\n",
        "\n",
        "X = data[selected_features]\n",
        "y = data['SalePrice']\n",
        "\n",
        "# Add a constant for bias term\n",
        "X = sm.add_constant(X)\n",
        "\n",
        "# Fit the multiple linear regression model\n",
        "model = sm.OLS(y, X).fit()\n",
        "\n",
        "# Print regression summary\n",
        "print(model.summary())\n"
      ]
    },
    {
      "cell_type": "code",
      "execution_count": 99,
      "id": "291bb16c",
      "metadata": {},
      "outputs": [
        {
          "name": "stdout",
          "output_type": "stream",
          "text": [
            "       Feature       VIF\n",
            "0  OverallQual  2.638715\n",
            "1    GrLivArea  2.821742\n",
            "2   GarageCars  1.871290\n",
            "3  TotalBsmtSF  3.561046\n",
            "4     1stFlrSF  3.742168\n",
            "5    YearBuilt  2.073855\n",
            "6     FullBath  2.152951\n",
            "7   Fireplaces  1.375195\n"
          ]
        }
      ],
      "source": [
        "# VIF \n",
        "# variance inflation factor\n",
        "from statsmodels.stats.outliers_influence import variance_inflation_factor\n",
        "\n",
        "# Reuse your selected features\n",
        "features = ['OverallQual', 'GrLivArea', 'GarageCars', 'TotalBsmtSF',\n",
        "            '1stFlrSF', 'YearBuilt', 'FullBath', 'Fireplaces']\n",
        "\n",
        "X = data[features].dropna()\n",
        "X_const = sm.add_constant(X)\n",
        "\n",
        "# Calculate VIF for each feature\n",
        "vif_df = pd.DataFrame()\n",
        "vif_df[\"Feature\"] = X.columns\n",
        "vif_df[\"VIF\"] = [variance_inflation_factor(X_const.values, i+1) for i in range(len(X.columns))]\n",
        "print(vif_df)\n"
      ]
    },
    {
      "cell_type": "code",
      "execution_count": 100,
      "id": "d8bad72c",
      "metadata": {},
      "outputs": [],
      "source": [
        "# add interaction term\n",
        "data['GrLivArea_OverallQual'] = data['GrLivArea'] * data['OverallQual']\n",
        "features.append('GrLivArea_OverallQual')"
      ]
    },
    {
      "cell_type": "code",
      "execution_count": 101,
      "id": "78916dfd",
      "metadata": {},
      "outputs": [
        {
          "name": "stdout",
          "output_type": "stream",
          "text": [
            "Ridge best alpha: 162.97508346206433\n",
            "Ridge RMSE: 38211.42530200663\n",
            "Lasso best alpha: 1000.0\n",
            "Lasso RMSE: 36937.8583994666\n"
          ]
        }
      ],
      "source": [
        "# Regularization\n",
        "# Ridge and Lasso\n",
        "from sklearn.linear_model import RidgeCV, LassoCV\n",
        "from sklearn.model_selection import train_test_split\n",
        "from sklearn.preprocessing import StandardScaler\n",
        "from sklearn.metrics import mean_squared_error\n",
        "\n",
        "X = data[features].dropna()\n",
        "y = data.loc[X.index, 'SalePrice']\n",
        "\n",
        "# Standardize features\n",
        "scaler = StandardScaler()\n",
        "X_scaled = scaler.fit_transform(X)\n",
        "\n",
        "# Train-test split\n",
        "X_train, X_test, y_train, y_test = train_test_split(X_scaled, y, test_size=0.2, random_state=42)\n",
        "\n",
        "# Ridge Regression\n",
        "ridge = RidgeCV(alphas=np.logspace(-3, 3, 100), cv=5)\n",
        "ridge.fit(X_train, y_train)\n",
        "print(\"Ridge best alpha:\", ridge.alpha_)\n",
        "print(\"Ridge RMSE:\", np.sqrt(mean_squared_error(y_test, ridge.predict(X_test))))\n",
        "\n",
        "# Lasso Regression\n",
        "lasso = LassoCV(alphas=np.logspace(-3, 3, 100), cv=5)\n",
        "lasso.fit(X_train, y_train)\n",
        "print(\"Lasso best alpha:\", lasso.alpha_)\n",
        "print(\"Lasso RMSE:\", np.sqrt(mean_squared_error(y_test, lasso.predict(X_test))))\n"
      ]
    },
    {
      "cell_type": "code",
      "execution_count": 102,
      "id": "fd804167",
      "metadata": {},
      "outputs": [
        {
          "data": {
            "image/png": "[encoded data removed]",
            "text/plain": [
              "<Figure size 1000x600 with 1 Axes>"
            ]
          },
          "metadata": {},
          "output_type": "display_data"
        }
      ],
      "source": [
        "# residual plot for assumption checks\n",
        "model = sm.OLS(y_train, sm.add_constant(X_train)).fit()\n",
        "residuals = model.resid\n",
        "fitted = model.fittedvalues\n",
        "\n",
        "plt.figure(figsize=(10, 6))\n",
        "sns.scatterplot(x=fitted, y=residuals)\n",
        "plt.axhline(0, color='red', linestyle='--')\n",
        "plt.title(\"Residuals vs Fitted Values\")\n",
        "plt.xlabel(\"Fitted Values\")\n",
        "plt.ylabel(\"Residuals\")\n",
        "plt.tight_layout()\n",
        "plt.show()\n"
      ]
    },
    {
      "cell_type": "code",
      "execution_count": null,
      "id": "d9b5d781",
      "metadata": {},
      "outputs": [],
      "source": []
    }
  ],
  "metadata": {
    "kernelspec": {
      "display_name": "base",
      "language": "python",
      "name": "python3"
    },
    "language_info": {
      "codemirror_mode": {
        "name": "ipython",
        "version": 3
      },
      "file_extension": ".py",
      "mimetype": "text/x-python",
      "name": "python",
      "nbconvert_exporter": "python",
      "pygments_lexer": "ipython3",
      "version": "3.11.5"
    }
  },
  "nbformat": 4,
  "nbformat_minor": 5
}
